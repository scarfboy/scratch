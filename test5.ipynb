{
  "nbformat": 4,
  "nbformat_minor": 0,
  "metadata": {
    "colab": {
      "provenance": [],
      "include_colab_link": true
    },
    "kernelspec": {
      "name": "python3",
      "display_name": "Python 3"
    },
    "language_info": {
      "name": "python"
    }
  },
  "cells": [
    {
      "cell_type": "markdown",
      "metadata": {
        "id": "view-in-github",
        "colab_type": "text"
      },
      "source": [
        "<a href=\"https://colab.research.google.com/github/scarfboy/scratch/blob/main/test5.ipynb\" target=\"_parent\"><img src=\"https://colab.research.google.com/assets/colab-badge.svg\" alt=\"Open In Colab\"/></a>"
      ]
    },
    {
      "cell_type": "markdown",
      "source": [
        "# How many cases are there of grouped answers leading to mismatches in numbering?"
      ],
      "metadata": {
        "id": "3ucw0icyzGdl"
      }
    },
    {
      "cell_type": "code",
      "source": [
        "mismatched_qa, matched_qa = 0,0\n",
        "\n",
        "for id, details in list(kv.data.items()):\n",
        "    vraagdata = details['vraagdata']\n",
        "\n",
        "    vraag_numbers = set()\n",
        "    antwoord_numbers = set()\n",
        "\n",
        "    for qa_number in vraagdata:\n",
        "        if 'vraag' in vraagdata[qa_number]:\n",
        "            vraag_numbers.add( qa_number )\n",
        "        if 'antwoord' in vraagdata[qa_number]:\n",
        "            antwoord_numbers.add( qa_number )\n",
        "\n",
        "        diff = vraag_numbers.symmetric_difference( antwoord_numbers )\n",
        "        if len(diff) == 0:\n",
        "            matched_qa    += 1\n",
        "        else:\n",
        "            mismatched_qa += 1\n",
        "            if 0:  # showing all cases in the dataset would be very spammy\n",
        "                print('\\n=== %s ==='%id)\n",
        "                print(\"Vragen:     %s\"%sorted(vraag_numbers))\n",
        "                print(\"Antwoorden: %s\"%sorted(antwoord_numbers))\n",
        "                print(\"Difference: %s\"%sorted(diff))\n",
        "                print( details['urls'][-1] )  # mention the document we used, so we can look at it\n",
        "\n",
        "print( f\"Matched: {matched_qa}     Not matched: {mismatched_qa}\" )"
      ],
      "metadata": {
        "colab": {
          "base_uri": "https://localhost:8080/"
        },
        "id": "jtJlM_ZRcPnf",
        "outputId": "c01e8d29-1900-4fb6-a82d-1d0f7973662d"
      },
      "execution_count": null,
      "outputs": [
        {
          "output_type": "stream",
          "name": "stdout",
          "text": [
            "Matched: 219302     Not matched: 12259\n"
          ]
        }
      ]
    },
    {
      "cell_type": "markdown",
      "source": [
        "# What does the metadata look like?"
      ],
      "metadata": {
        "id": "JeJSrjlsdwgT"
      }
    },
    {
      "cell_type": "code",
      "source": [
        "import pandas   # pandas is a nice way to inspect and alter tabular data\n",
        "df = pandas.DataFrame.from_dict( kv.data, orient='index' ) \n",
        "df['available_parsed'] = pandas.to_datetime( df['available'] )  # add a new colum that is the date string interpreted as a python datetime (used below)\n",
        "df"
      ],
      "metadata": {
        "id": "JOfYimO0yoJF"
      },
      "execution_count": null,
      "outputs": []
    },
    {
      "cell_type": "code",
      "source": [
        "df['category'].value_counts()"
      ],
      "metadata": {
        "id": "x4jLH_bkyoiR"
      },
      "execution_count": null,
      "outputs": []
    },
    {
      "cell_type": "code",
      "source": [
        "# you could do a histogram over time something like:\n",
        "#import matplotlib.pyplot, matplotlib.ticker\n",
        "#fig, axis = matplotlib.pyplot.subplots()\n",
        "#axis.hist(df['year'],  rwidth=0.8, bins=max(df['year'])-min(df['year']) )\n",
        "#axis.xaxis.set_major_locator( matplotlib.ticker.MaxNLocator(integer=True) )\n",
        "#axis.set_title('question sets per year')\n",
        "\n",
        "# ...but pandas is quite succinct here.  Once you understand how it works, that is.\n",
        "df['available_parsed'].groupby( [df[\"available_parsed\"].dt.year,df[\"available_parsed\"].dt.month] ).count().plot(kind=\"bar\", figsize=(28,5), title='Questions per month')\n"
      ],
      "metadata": {
        "id": "Nm3G8TydyqMd"
      },
      "execution_count": null,
      "outputs": []
    }
  ]
}